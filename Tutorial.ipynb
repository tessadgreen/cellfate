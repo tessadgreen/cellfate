{
 "cells": [
  {
   "cell_type": "code",
   "execution_count": 1,
   "metadata": {
    "collapsed": false
   },
   "outputs": [],
   "source": [
    "import cellfate\n",
    "from cellfate import io"
   ]
  },
  {
   "cell_type": "markdown",
   "metadata": {
    "collapsed": true
   },
   "source": [
    "## The Data\n",
    "\n",
    "This package accepts data in the form of csv files outputed by the CellProfiler Software available from MIT's Broad Institute (cellprofiler.org). \n",
    "\n",
    "The example data used here is processed time-lapse images of differentiating stem cells with tagged transcription factors.\n",
    "\n",
    "![t1](t1.png)\n",
    "\n",
    "The example cells are embryonic stem cells modified using CRISPR so as to create two tagged transcription factors: Oct4-mCherry and Sox2-GFP. These show up respectively in the red and green channels of our time lapse image set. Above is a composite image of the starting time point. Green cells become neurectoderm (Sox2 only), and red cells become mesendoderm (Oct4 only). \n",
    "\n",
    "CellProfiler can then be used to segment images and classify cells by relative color. A segmented version of the above image is shown below.\n",
    "\n",
    "![t1-segmented](t1-segmented.png)\n",
    "\n",
    "In this sample, cells were classified using the upper quartile intensity of each identified nuclei. The yellow color indicated red-dominated cells, the aqua indicates green-dominated, and navy and burgandy indicate the undifferentiated \"both\" cell state. \n",
    "\n",
    "![t1-classified](t1-classified.png)\n",
    "\n",
    "CellProfiler was then used to export the nuclear locations and classifications to a csv file. Our package is configured to read these default-configured CellProfiler output CSV files (created using the ExportToSpreadsheet analysis module).\n",
    "\n",
    "The images shown above are for the first of 175 time steps in our sample data set. "
   ]
  },
  {
   "cell_type": "markdown",
   "metadata": {
    "collapsed": true
   },
   "source": [
    "### Data Import\n",
    "\n",
    "Data is imported from CSV files. The classification was done using the upper quartile intensity of each segmented cell. This is accessed in the function cell_density_fun.py. \n",
    "\n",
    "We can read in data using io.read."
   ]
  },
  {
   "cell_type": "code",
   "execution_count": 17,
   "metadata": {
    "collapsed": false
   },
   "outputs": [],
   "source": [
    "our_data=io.read('full-data.csv', 'Sox2', 'Oct4', 15)"
   ]
  },
  {
   "cell_type": "markdown",
   "metadata": {},
   "source": [
    "This gives us a cell density object. This object is essentially a pandas data frame with some additional meta-data.\n",
    "\n",
    "    our_data.data['Oct4']\n",
    "    our_data.data['Sox2']\n",
    "    our_data.data['Both']\n",
    "    \n",
    "Gives the data for each cell type over time. The other properties are bin_num, cellname, and tot_time."
   ]
  },
  {
   "cell_type": "code",
   "execution_count": 22,
   "metadata": {
    "collapsed": false
   },
   "outputs": [],
   "source": [
    "our_data.plotMap()"
   ]
  },
  {
   "cell_type": "code",
   "execution_count": null,
   "metadata": {
    "collapsed": true
   },
   "outputs": [],
   "source": []
  }
 ],
 "metadata": {
  "anaconda-cloud": {},
  "kernelspec": {
   "display_name": "Python [Root]",
   "language": "python",
   "name": "Python [Root]"
  },
  "language_info": {
   "codemirror_mode": {
    "name": "ipython",
    "version": 3
   },
   "file_extension": ".py",
   "mimetype": "text/x-python",
   "name": "python",
   "nbconvert_exporter": "python",
   "pygments_lexer": "ipython3",
   "version": "3.5.2"
  }
 },
 "nbformat": 4,
 "nbformat_minor": 1
}
